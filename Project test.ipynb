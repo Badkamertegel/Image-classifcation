{
 "cells": [
  {
   "cell_type": "code",
   "execution_count": 576,
   "id": "44d7d9c1",
   "metadata": {},
   "outputs": [],
   "source": [
    "import os\n",
    "import numpy as np\n",
    "import pandas as pd\n",
    "import torchvision\n",
    "import matplotlib.pyplot as plt\n",
    "import torch\n",
    "import torch.nn as nn\n",
    "\n",
    "from torchvision.io import read_image\n",
    "from torch.utils.data import Dataset, DataLoader, random_split\n",
    "from torchvision import transforms, models"
   ]
  },
  {
   "cell_type": "markdown",
   "id": "1577e341",
   "metadata": {},
   "source": [
    "# Create custom dataset"
   ]
  },
  {
   "cell_type": "code",
   "execution_count": 562,
   "id": "c2017524",
   "metadata": {},
   "outputs": [],
   "source": [
    "class CustomImageDataset(Dataset):\n",
    "    def __init__(self, annotations_file, img_dir, transform = None, target_transform = None):        \n",
    "        self.img_labels = pd.read_csv(annotations_file)\n",
    "        self.img_dir = img_dir\n",
    "        self.transform = transform\n",
    "        self.target_transform = target_transform\n",
    "\n",
    "    def __len__(self):        \n",
    "        return len(self.img_labels)\n",
    "\n",
    "    def __getitem__(self, idx):        \n",
    "        img_path = os.path.join(self.img_dir, self.img_labels.iloc[idx, 0])\n",
    "        image = read_image(img_path)\n",
    "        label = self.img_labels.iloc[idx, 1]       \n",
    "        if self.transform:\n",
    "            image = self.transform(image)           \n",
    "        if self.target_transform:\n",
    "            label = self.target_transform(label)\n",
    "            \n",
    "        return image, label"
   ]
  },
  {
   "cell_type": "markdown",
   "id": "79bf2587",
   "metadata": {},
   "source": [
    "# Load training data"
   ]
  },
  {
   "cell_type": "code",
   "execution_count": 563,
   "id": "1f93cd73",
   "metadata": {},
   "outputs": [],
   "source": [
    "annotations_file = 'train_labels.csv'\n",
    "img_dir_train = 'train_set/train_set'\n",
    "img_dir_test = 'test_set/test_set'\n",
    "\n",
    "transform = torchvision.transforms.Compose([\n",
    "    transforms.Resize((28, 28))\n",
    "])\n",
    "\n",
    "dataset = CustomImageDataset(annotations_file, img_dir_train, transform)"
   ]
  },
  {
   "cell_type": "markdown",
   "id": "d9e9288a",
   "metadata": {},
   "source": [
    "# Display image and label"
   ]
  },
  {
   "cell_type": "code",
   "execution_count": 564,
   "id": "10d5ec74",
   "metadata": {},
   "outputs": [
    {
     "name": "stdout",
     "output_type": "stream",
     "text": [
      "Feature batch shape: torch.Size([64, 3, 28, 28])\n",
      "Labels batch shape: torch.Size([64])\n"
     ]
    },
    {
     "data": {
      "image/png": "[encoded data removed]",
      "text/plain": [
       "<Figure size 432x288 with 1 Axes>"
      ]
     },
     "metadata": {
      "needs_background": "light"
     },
     "output_type": "display_data"
    },
    {
     "name": "stdout",
     "output_type": "stream",
     "text": [
      "Label: 8\n"
     ]
    }
   ],
   "source": [
    "# load images as PIL\n",
    "train_dataloader = DataLoader(dataset, batch_size = 64, shuffle = True)\n",
    "\n",
    "# only works when the transform ToTensor() is not applied\n",
    "train_features, train_labels = next(iter(train_dataloader))\n",
    "\n",
    "print(f\"Feature batch shape: {train_features.size()}\")\n",
    "print(f\"Labels batch shape: {train_labels.size()}\")\n",
    "\n",
    "# don't really know what permute does, but it works\n",
    "img = train_features[0].squeeze().permute(1, 2, 0)\n",
    "label = train_labels[0]\n",
    "\n",
    "plt.imshow(img, cmap = 'gray')\n",
    "plt.show()\n",
    "\n",
    "print(f\"Label: {label}\")"
   ]
  },
  {
   "cell_type": "markdown",
   "id": "e0be500c",
   "metadata": {},
   "source": [
    "# Train model"
   ]
  },
  {
   "cell_type": "code",
   "execution_count": 571,
   "id": "765996b0",
   "metadata": {},
   "outputs": [],
   "source": [
    "# split train set into train and validation\n",
    "train_size = int(0.8 * len(dataset))\n",
    "val_size = len(dataset) - train_size\n",
    "\n",
    "train_subset, val_subset = torch.utils.data.random_split(\n",
    "        dataset, [train_size, val_size], generator = torch.Generator().manual_seed(1))\n",
    "\n",
    "batch_size = 64\n",
    "\n",
    "train_dataloader = DataLoader(train_subset, batch_size = batch_size, shuffle = True)\n",
    "val_dataloader = DataLoader(val_subset, batch_size = batch_size, shuffle = True)"
   ]
  },
  {
   "cell_type": "code",
   "execution_count": 572,
   "id": "b786a4fd",
   "metadata": {},
   "outputs": [
    {
     "name": "stdout",
     "output_type": "stream",
     "text": [
      "Using cpu device\n"
     ]
    }
   ],
   "source": [
    "# cuda or cpu\n",
    "device = 'cuda' if torch.cuda.is_available() else 'cpu'\n",
    "print(f'Using {device} device')"
   ]
  },
  {
   "cell_type": "markdown",
   "id": "29b4e649",
   "metadata": {},
   "source": [
    "# Neural network"
   ]
  },
  {
   "cell_type": "code",
   "execution_count": 573,
   "id": "9f995183",
   "metadata": {},
   "outputs": [],
   "source": [
    "class NeuralNetwork(nn.Module):\n",
    "    def __init__(self):\n",
    "        super(NeuralNetwork, self).__init__()\n",
    "        self.flatten = nn.Flatten()\n",
    "        self.linear_relu_stack = nn.Sequential(\n",
    "            nn.Linear(2352, 1800),\n",
    "            nn.ReLU(),\n",
    "            nn.Linear(1800, 1500),\n",
    "            nn.ReLU(),\n",
    "            nn.Linear(1500, 1200),\n",
    "            nn.ReLU(),\n",
    "            nn.Linear(1200, 800),\n",
    "            nn.ReLU(),\n",
    "            nn.Linear(800, 512),\n",
    "            nn.ReLU(),\n",
    "            nn.Linear(512, 256),\n",
    "            nn.ReLU(),\n",
    "            nn.Linear(256, 128),\n",
    "            nn.ReLU(),\n",
    "            nn.Linear(128, 81),\n",
    "        )\n",
    "\n",
    "    def forward(self, x):\n",
    "        x = self.flatten(x)\n",
    "        logits = self.linear_relu_stack(x)\n",
    "        return logits\n",
    "\n",
    "model = NeuralNetwork().to(device)"
   ]
  },
  {
   "cell_type": "code",
   "execution_count": 574,
   "id": "40c68b0f",
   "metadata": {},
   "outputs": [],
   "source": [
    "def train_loop(dataloader, model, loss_fn, optimizer):\n",
    "    size = len(dataloader.dataset)\n",
    "    for batch, (X, y) in enumerate(dataloader):\n",
    "        # Compute prediction and loss\n",
    "        pred = model(X.float()) # only works when X is a float\n",
    "        loss = loss_fn(pred, y)\n",
    "\n",
    "        # Backpropagation\n",
    "        optimizer.zero_grad()\n",
    "        loss.backward()\n",
    "        optimizer.step() # update parameters / weights\n",
    "\n",
    "        if batch % 100 == 0:\n",
    "            loss, current = loss.item(), batch * len(X)\n",
    "            print(f\"loss: {loss: > 7f}  [{current: > 5d} / {size: > 5d}]\")\n",
    "\n",
    "\n",
    "def test_loop(dataloader, model, loss_fn):\n",
    "    size = len(dataloader.dataset)\n",
    "    num_batches = len(dataloader)\n",
    "    test_loss, correct = 0, 0\n",
    "\n",
    "    with torch.no_grad():\n",
    "        for X, y in dataloader:\n",
    "            pred = model(X.float()) # only works when X is a float\n",
    "            test_loss += loss_fn(pred, y).item()\n",
    "            correct += (pred.argmax(1) == y).type(torch.float).sum().item()\n",
    "\n",
    "    test_loss /= num_batches\n",
    "    correct /= size\n",
    "    print(f\"Test Error: \\n Accuracy: {(100 * correct): > 0.1f}%, Avg loss: {test_loss: > 8f} \\n\")"
   ]
  },
  {
   "cell_type": "markdown",
   "id": "c83e783e",
   "metadata": {},
   "source": [
    "# How well does the model perform?"
   ]
  },
  {
   "cell_type": "code",
   "execution_count": 575,
   "id": "7892b3e0",
   "metadata": {},
   "outputs": [
    {
     "name": "stdout",
     "output_type": "stream",
     "text": [
      "Epoch 1\n",
      "-------------------------------\n",
      "loss: 4.383621  [    0/24489]\n",
      "loss: 4.383384  [ 6400/24489]\n",
      "loss: 4.419337  [12800/24489]\n",
      "loss: 4.387862  [19200/24489]\n",
      "Test Error: \n",
      " Accuracy: 1.5%, Avg loss: 4.379148 \n",
      "\n",
      "Epoch 2\n",
      "-------------------------------\n",
      "loss: 4.389859  [    0/24489]\n",
      "loss: 4.380431  [ 6400/24489]\n",
      "loss: 4.390921  [12800/24489]\n",
      "loss: 4.377818  [19200/24489]\n",
      "Test Error: \n",
      " Accuracy: 1.9%, Avg loss: 4.366914 \n",
      "\n",
      "Epoch 3\n",
      "-------------------------------\n",
      "loss: 4.331046  [    0/24489]\n",
      "loss: 4.376426  [ 6400/24489]\n",
      "loss: 4.388202  [12800/24489]\n",
      "loss: 4.331815  [19200/24489]\n",
      "Test Error: \n",
      " Accuracy: 2.0%, Avg loss: 4.350410 \n",
      "\n",
      "Epoch 4\n",
      "-------------------------------\n",
      "loss: 4.347972  [    0/24489]\n",
      "loss: 4.294960  [ 6400/24489]\n",
      "loss: 4.375929  [12800/24489]\n",
      "loss: 4.280212  [19200/24489]\n",
      "Test Error: \n",
      " Accuracy: 2.9%, Avg loss: 4.330817 \n",
      "\n",
      "Epoch 5\n",
      "-------------------------------\n",
      "loss: 4.255974  [    0/24489]\n",
      "loss: 4.236732  [ 6400/24489]\n",
      "loss: 4.304360  [12800/24489]\n",
      "loss: 4.272893  [19200/24489]\n",
      "Test Error: \n",
      " Accuracy: 2.9%, Avg loss: 4.311945 \n",
      "\n",
      "Done!\n"
     ]
    }
   ],
   "source": [
    "learning_rate = 0.001\n",
    "epochs = 5\n",
    "\n",
    "loss_fn = nn.CrossEntropyLoss()\n",
    "optimizer = torch.optim.SGD(model.parameters(), lr = learning_rate)\n",
    "\n",
    "for t in range(epochs):\n",
    "    print(f\"Epoch {t+1} \\n-------------------------------\")\n",
    "    train_loop(train_dataloader, model, loss_fn, optimizer)\n",
    "    test_loop(val_dataloader, model, loss_fn)\n",
    "    \n",
    "print(\"Done!\")"
   ]
  },
  {
   "cell_type": "code",
   "execution_count": null,
   "id": "f21654d9",
   "metadata": {},
   "outputs": [],
   "source": []
  },
  {
   "cell_type": "code",
   "execution_count": null,
   "id": "750d067e",
   "metadata": {},
   "outputs": [],
   "source": []
  }
 ],
 "metadata": {
  "kernelspec": {
   "display_name": "Python 3 (ipykernel)",
   "language": "python",
   "name": "python3"
  },
  "language_info": {
   "codemirror_mode": {
    "name": "ipython",
    "version": 3
   },
   "file_extension": ".py",
   "mimetype": "text/x-python",
   "name": "python",
   "nbconvert_exporter": "python",
   "pygments_lexer": "ipython3",
   "version": "3.9.7"
  }
 },
 "nbformat": 4,
 "nbformat_minor": 5
}
